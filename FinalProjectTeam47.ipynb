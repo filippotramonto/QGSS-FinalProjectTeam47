{
 "cells": [
  {
   "cell_type": "code",
   "execution_count": 1,
   "metadata": {
    "colab": {
     "base_uri": "https://localhost:8080/",
     "height": 1000
    },
    "colab_type": "code",
    "id": "Nlh7soqp3tZV",
    "outputId": "703146d7-e17d-4c7a-88e0-0db1b8019ac7"
   },
   "outputs": [],
   "source": [
    "#!pip install --upgrade qiskit"
   ]
  },
  {
   "cell_type": "code",
   "execution_count": 2,
   "metadata": {
    "colab": {},
    "colab_type": "code",
    "id": "qZkVwqSY3ogt"
   },
   "outputs": [],
   "source": [
    "%matplotlib inline\n",
    "from qiskit import BasicAer, Aer, IBMQ\n",
    "from qiskit.aqua import QuantumInstance, aqua_globals\n",
    "from qiskit.aqua.algorithms import VQE, ExactEigensolver\n",
    "from qiskit.aqua.algorithms import NumPyEigensolver\n",
    "from qiskit.aqua.components.initial_states import Zero\n",
    "from qiskit.aqua.components.optimizers import COBYLA, L_BFGS_B, SLSQP, SPSA\n",
    "from qiskit.aqua.components.variational_forms import RY, RYRZ, SwapRZ\n",
    "from qiskit.aqua.operators import WeightedPauliOperator, Z2Symmetries\n",
    "from qiskit.chemistry import FermionicOperator\n",
    "from qiskit.chemistry.drivers import PySCFDriver, UnitsType\n",
    "from qiskit.chemistry.components.variational_forms import UCCSD\n",
    "from qiskit.chemistry.components.initial_states import HartreeFock\n",
    "\n",
    "from qiskit.providers.aer import QasmSimulator\n",
    "from qiskit.providers.aer.noise import NoiseModel\n",
    "from qiskit.providers.aer.noise.errors import QuantumError, ReadoutError\n",
    "from qiskit.providers.aer.noise.errors import pauli_error\n",
    "from qiskit.providers.aer.noise.errors import depolarizing_error\n",
    "from qiskit.providers.aer.noise.errors import thermal_relaxation_error\n",
    "\n",
    "from qiskit.providers.aer import noise\n",
    "#provider = IBMQ.load_account()\n",
    "\n",
    "import numpy as np\n",
    "import matplotlib.pyplot as plt\n",
    "from functools import partial"
   ]
  },
  {
   "cell_type": "markdown",
   "metadata": {
    "colab_type": "text",
    "id": "llK_2sSh3ogy"
   },
   "source": [
    "# Qiskit Summer School Final Project: VQE"
   ]
  },
  {
   "cell_type": "markdown",
   "metadata": {
    "colab_type": "text",
    "id": "Egi5SnSU3ogy"
   },
   "source": [
    "## Some defintions"
   ]
  },
  {
   "cell_type": "code",
   "execution_count": 3,
   "metadata": {
    "colab": {},
    "colab_type": "code",
    "id": "dwVjiTBj3ogz"
   },
   "outputs": [],
   "source": [
    "#Classically solve for the lowest eigenvalue\n",
    "def exact_solver(qubitOp):\n",
    "    #ee = ExactEigensolver(qubitOp)\n",
    "    ee = NumPyEigensolver(qubitOp)\n",
    "    result = ee.run()\n",
    "    ref = result['eigenvalues']\n",
    "    #print('Reference value: {}'.format(ref))\n",
    "    return ref"
   ]
  },
  {
   "cell_type": "code",
   "execution_count": 4,
   "metadata": {
    "colab": {},
    "colab_type": "code",
    "id": "Zdabx1Wl3og2"
   },
   "outputs": [],
   "source": [
    "backend = BasicAer.get_backend('statevector_simulator')"
   ]
  },
  {
   "cell_type": "code",
   "execution_count": 5,
   "metadata": {
    "colab": {},
    "colab_type": "code",
    "id": "o53pyjNi3og6"
   },
   "outputs": [],
   "source": [
    "def store_intermediate_result(eval_count, parameters, mean, std):\n",
    "            counts.append(eval_count)\n",
    "            values.append(mean)\n",
    "            params.append(parameters)\n",
    "            deviation.append(std)"
   ]
  },
  {
   "cell_type": "code",
   "execution_count": 6,
   "metadata": {
    "colab": {},
    "colab_type": "code",
    "id": "n-tD52VO3og9"
   },
   "outputs": [],
   "source": [
    "def compute_LiH_qubitOp(map_type, inter_dist, basis='sto3g'):\n",
    "    \n",
    "    # Specify details of our molecule\n",
    "    driver = PySCFDriver(atom='Li .0 .0 .0; H .0 .0 ' + str(inter_dist), unit=UnitsType.ANGSTROM, charge=0, spin=0, basis=basis)\n",
    "\n",
    "    # Compute relevant 1 and 2 body integrals.\n",
    "    molecule = driver.run()\n",
    "    h1 = molecule.one_body_integrals\n",
    "    h2 = molecule.two_body_integrals\n",
    "    nuclear_repulsion_energy = molecule.nuclear_repulsion_energy\n",
    "    \n",
    "    num_particles = molecule.num_alpha + molecule.num_beta\n",
    "    num_spin_orbitals = molecule.num_orbitals * 2\n",
    "    print(\"HF energy: {}\".format(molecule.hf_energy - nuclear_repulsion_energy))\n",
    "    print(\"# of electrons: {}\".format(num_particles))\n",
    "    print(\"# of spin orbitals: {}\".format(num_spin_orbitals))\n",
    "\n",
    "    # Please be aware that the idx here with respective to original idx\n",
    "    freeze_list = [0]\n",
    "    remove_list = [-3, -2] # negative number denotes the reverse order\n",
    "    \n",
    "    # Prepare full idx of freeze_list and remove_list\n",
    "    # Convert all negative idx to positive\n",
    "    remove_list = [x % molecule.num_orbitals for x in remove_list]\n",
    "    freeze_list = [x % molecule.num_orbitals for x in freeze_list]\n",
    "    \n",
    "    # Update the idx in remove_list of the idx after frozen, since the idx of orbitals are changed after freezing\n",
    "    remove_list = [x - len(freeze_list) for x in remove_list]\n",
    "    remove_list += [x + molecule.num_orbitals - len(freeze_list)  for x in remove_list]\n",
    "    freeze_list += [x + molecule.num_orbitals for x in freeze_list]\n",
    "\n",
    "    #freeze_list = [0,6] \n",
    "    #remove_list = [3,8]\n",
    "    print(\"remove_list=\",remove_list)\n",
    "    print(\"freeze_list=\",freeze_list)\n",
    "\n",
    "    # Prepare fermionic hamiltonian with orbital freezing and eliminating, and then map to qubit hamiltonian\n",
    "    # and if PARITY mapping is selected, reduction qubits\n",
    "    qubit_reduction = True if map_type == 'parity' else False\n",
    "\n",
    "    ferOp = FermionicOperator(h1=h1, h2=h2)\n",
    "    if len(freeze_list) > 0:\n",
    "        ferOp, energy_shift = ferOp.fermion_mode_freezing(freeze_list)\n",
    "        num_spin_orbitals -= len(freeze_list)\n",
    "        num_particles -= len(freeze_list)\n",
    "    if len(remove_list) > 0:\n",
    "        ferOp = ferOp.fermion_mode_elimination(remove_list)\n",
    "        num_spin_orbitals -= len(remove_list)\n",
    "\n",
    "    qubitOp = ferOp.mapping(map_type=map_type)\n",
    "    qubitOp = Z2Symmetries.two_qubit_reduction(qubitOp, num_particles) if qubit_reduction else qubitOp #that is: if map_type == 'parity' do two_qibit_reduction, else do nothing \n",
    "    qubitOp.chop(10**-10)\n",
    "    total_en_shift = energy_shift + nuclear_repulsion_energy\n",
    "\n",
    "    return qubitOp, num_spin_orbitals, num_particles, qubit_reduction, total_en_shift"
   ]
  },
  {
   "cell_type": "markdown",
   "metadata": {
    "colab_type": "text",
    "id": "RLbCwe4P3og_"
   },
   "source": [
    "## Setting molecule"
   ]
  },
  {
   "cell_type": "code",
   "execution_count": 7,
   "metadata": {
    "colab": {
     "base_uri": "https://localhost:8080/",
     "height": 102
    },
    "colab_type": "code",
    "id": "k_uo5Lod3ohO",
    "outputId": "f4ab13fd-205d-44b5-e848-03e4b8911328"
   },
   "outputs": [
    {
     "name": "stdout",
     "output_type": "stream",
     "text": [
      "HF energy: -8.854072040283647\n",
      "# of electrons: 4\n",
      "# of spin orbitals: 12\n",
      "remove_list= [2, 3, 7, 8]\n",
      "freeze_list= [0, 6]\n"
     ]
    }
   ],
   "source": [
    "inter_dist = 1.6\n",
    "map_type='parity'\n",
    "\n",
    "qubitOp, num_spin_orbitals, num_particles, qubit_reduction, total_en_shift = compute_LiH_qubitOp(map_type,inter_dist)"
   ]
  },
  {
   "cell_type": "code",
   "execution_count": 8,
   "metadata": {
    "colab": {
     "base_uri": "https://localhost:8080/",
     "height": 68
    },
    "colab_type": "code",
    "id": "3ZQpNncm3ohS",
    "outputId": "abaf490d-de7e-4d3a-f720-37a62a1e807a"
   },
   "outputs": [
    {
     "name": "stdout",
     "output_type": "stream",
     "text": [
      "ref. energy= -1.0771\n",
      "total_en_shift -6.804\n",
      "exact energy= -7.8811\n"
     ]
    }
   ],
   "source": [
    "ref = exact_solver(qubitOp)\n",
    "\n",
    "print(\"ref. energy=\",np.round(np.real(ref[0]),4))\n",
    "print(\"total_en_shift\",np.round(total_en_shift,4))\n",
    "exact_energy = np.real(ref[0] + total_en_shift)\n",
    "print(\"exact energy=\",np.round(exact_energy,4))"
   ]
  },
  {
   "cell_type": "code",
   "execution_count": 9,
   "metadata": {
    "colab": {
     "base_uri": "https://localhost:8080/",
     "height": 34
    },
    "colab_type": "code",
    "id": "3l1JlpCeivEj",
    "outputId": "eb45039a-e2af-4e5f-e3c0-115491e4a9f8"
   },
   "outputs": [
    {
     "name": "stdout",
     "output_type": "stream",
     "text": [
      "Max iter.: 5 VQE Result: -7.8810366266663365 Exact Energy: -7.881072044030918\n",
      "Max iter.: 10 VQE Result: -7.881072027638027 Exact Energy: -7.881072044030918\n"
     ]
    }
   ],
   "source": [
    "backend = BasicAer.get_backend(\"statevector_simulator\")\n",
    "\n",
    "for maxter in [5,10]:\n",
    "    optimizer = SLSQP(maxiter=maxter)\n",
    "\n",
    "    initial_state = HartreeFock(\n",
    "        num_spin_orbitals,\n",
    "        num_particles,\n",
    "        qubit_mapping=map_type\n",
    "    ) \n",
    "    var_form = UCCSD(\n",
    "        num_orbitals=num_spin_orbitals,\n",
    "        num_particles=num_particles,\n",
    "        initial_state=initial_state,\n",
    "        qubit_mapping=map_type\n",
    "    )\n",
    "    vqe = VQE(qubitOp, var_form, optimizer)\n",
    "    vqe_result = np.real(vqe.run(backend)['eigenvalue'] + total_en_shift)\n",
    "    print(\"Max iter.:\",maxter,\"VQE Result:\", vqe_result, \"Exact Energy:\", exact_energy)"
   ]
  },
  {
   "cell_type": "code",
   "execution_count": 10,
   "metadata": {},
   "outputs": [
    {
     "name": "stdout",
     "output_type": "stream",
     "text": [
      "VQE Result: -7.8810366266663365 Exact Energy: -7.881072044030918\n"
     ]
    }
   ],
   "source": [
    "optimizer = SLSQP(maxiter=5)\n",
    "\n",
    "initial_state = HartreeFock(\n",
    "    num_spin_orbitals,\n",
    "    num_particles,\n",
    "    qubit_mapping=map_type\n",
    ") \n",
    "var_form = UCCSD(\n",
    "    num_orbitals=num_spin_orbitals,\n",
    "    num_particles=num_particles,\n",
    "    initial_state=initial_state,\n",
    "    qubit_mapping=map_type\n",
    ")\n",
    "counts=[]\n",
    "values=[]\n",
    "params=[]\n",
    "deviation=[]\n",
    "vqe = VQE(qubitOp, var_form, optimizer,callback=store_intermediate_result)\n",
    "vqe_result = np.real(vqe.run(backend)['eigenvalue'] + total_en_shift)\n",
    "print(\"VQE Result:\", vqe_result, \"Exact Energy:\", exact_energy)"
   ]
  },
  {
   "cell_type": "code",
   "execution_count": 11,
   "metadata": {
    "colab": {},
    "colab_type": "code",
    "id": "RCkREp_lE4oo"
   },
   "outputs": [],
   "source": [
    "counts_SLSQP = counts\n",
    "energies_SLSQP = values + total_en_shift\n",
    "deviation_SLSQP = deviation"
   ]
  },
  {
   "cell_type": "code",
   "execution_count": 12,
   "metadata": {
    "colab": {
     "base_uri": "https://localhost:8080/",
     "height": 296
    },
    "colab_type": "code",
    "id": "f8y9yYMRojkN",
    "outputId": "2d090178-ad50-42af-ab83-4f73504e4171"
   },
   "outputs": [
    {
     "data": {
      "text/plain": [
       "<matplotlib.legend.Legend at 0x7ff126ac54f0>"
      ]
     },
     "execution_count": 12,
     "metadata": {},
     "output_type": "execute_result"
    },
    {
     "data": {
      "image/png": "[encoded data removed]",
      "text/plain": [
       "<Figure size 432x288 with 1 Axes>"
      ]
     },
     "metadata": {
      "needs_background": "light"
     },
     "output_type": "display_data"
    }
   ],
   "source": [
    "plt.errorbar(counts_SLSQP,energies_SLSQP,yerr=deviation_SLSQP,label=\"map: parity, optim: SLSQP, var form: UCCSD\")\n",
    "plt.xlabel('Eval counts')\n",
    "plt.ylabel('Energy')\n",
    "plt.legend()"
   ]
  },
  {
   "cell_type": "code",
   "execution_count": null,
   "metadata": {
    "colab": {},
    "colab_type": "code",
    "id": "gkZ_kQ2NCllf"
   },
   "outputs": [],
   "source": []
  }
 ],
 "metadata": {
  "colab": {
   "collapsed_sections": [],
   "name": "FinalProjectTeam47.ipynb",
   "provenance": []
  },
  "kernelspec": {
   "display_name": "Python 3",
   "language": "python",
   "name": "python3"
  },
  "language_info": {
   "codemirror_mode": {
    "name": "ipython",
    "version": 3
   },
   "file_extension": ".py",
   "mimetype": "text/x-python",
   "name": "python",
   "nbconvert_exporter": "python",
   "pygments_lexer": "ipython3",
   "version": "3.8.3"
  }
 },
 "nbformat": 4,
 "nbformat_minor": 1
}
